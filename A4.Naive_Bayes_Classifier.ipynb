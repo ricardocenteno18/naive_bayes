{
 "cells": [
  {
   "cell_type": "markdown",
   "metadata": {},
   "source": [
    "## Naive Bayes Classifier"
   ]
  },
  {
   "cell_type": "code",
   "execution_count": 2,
   "metadata": {},
   "outputs": [
    {
     "name": "stderr",
     "output_type": "stream",
     "text": [
      "[nltk_data] Downloading package wordnet to\n",
      "[nltk_data]     C:\\Users\\ricar\\AppData\\Roaming\\nltk_data...\n",
      "[nltk_data]   Package wordnet is already up-to-date!\n"
     ]
    },
    {
     "data": {
      "text/plain": [
       "True"
      ]
     },
     "execution_count": 2,
     "metadata": {},
     "output_type": "execute_result"
    }
   ],
   "source": [
    "import pandas as pd\n",
    "import numpy as np\n",
    "import re\n",
    "import nltk\n",
    "from nltk.stem import PorterStemmer\n",
    "from nltk.stem import WordNetLemmatizer \n",
    "from nltk.tokenize import word_tokenize\n",
    "nltk.download('wordnet')"
   ]
  },
  {
   "cell_type": "code",
   "execution_count": 5,
   "metadata": {},
   "outputs": [
    {
     "data": {
      "text/html": [
       "<div>\n",
       "<style scoped>\n",
       "    .dataframe tbody tr th:only-of-type {\n",
       "        vertical-align: middle;\n",
       "    }\n",
       "\n",
       "    .dataframe tbody tr th {\n",
       "        vertical-align: top;\n",
       "    }\n",
       "\n",
       "    .dataframe thead th {\n",
       "        text-align: right;\n",
       "    }\n",
       "</style>\n",
       "<table border=\"1\" class=\"dataframe\">\n",
       "  <thead>\n",
       "    <tr style=\"text-align: right;\">\n",
       "      <th></th>\n",
       "      <th>tweet</th>\n",
       "      <th>senti</th>\n",
       "    </tr>\n",
       "  </thead>\n",
       "  <tbody>\n",
       "    <tr>\n",
       "      <th>0</th>\n",
       "      <td>@united Oh, we are sure it's not planned, but ...</td>\n",
       "      <td>0</td>\n",
       "    </tr>\n",
       "    <tr>\n",
       "      <th>1</th>\n",
       "      <td>History exam studying ugh</td>\n",
       "      <td>0</td>\n",
       "    </tr>\n",
       "    <tr>\n",
       "      <th>2</th>\n",
       "      <td>@unnitallman yeah looks like that only! &amp;quot;...</td>\n",
       "      <td>0</td>\n",
       "    </tr>\n",
       "    <tr>\n",
       "      <th>3</th>\n",
       "      <td>Loves twitter</td>\n",
       "      <td>4</td>\n",
       "    </tr>\n",
       "    <tr>\n",
       "      <th>4</th>\n",
       "      <td>@Mbjthegreat i really dont want AT&amp;amp;T phone...</td>\n",
       "      <td>0</td>\n",
       "    </tr>\n",
       "    <tr>\n",
       "      <th>...</th>\n",
       "      <td>...</td>\n",
       "      <td>...</td>\n",
       "    </tr>\n",
       "    <tr>\n",
       "      <th>293</th>\n",
       "      <td>@criticalpath Such an awesome idea - the  cont...</td>\n",
       "      <td>4</td>\n",
       "    </tr>\n",
       "    <tr>\n",
       "      <th>294</th>\n",
       "      <td>Talk is Cheap: Bing that, I?ll stick with Goog...</td>\n",
       "      <td>0</td>\n",
       "    </tr>\n",
       "    <tr>\n",
       "      <th>295</th>\n",
       "      <td>@CTesdahl well you can always digg or stumble....</td>\n",
       "      <td>4</td>\n",
       "    </tr>\n",
       "    <tr>\n",
       "      <th>296</th>\n",
       "      <td>Stopped to have lunch at McDonalds. Chicken Nu...</td>\n",
       "      <td>4</td>\n",
       "    </tr>\n",
       "    <tr>\n",
       "      <th>297</th>\n",
       "      <td>SUPER INVESTORS: A great weekend read here fro...</td>\n",
       "      <td>4</td>\n",
       "    </tr>\n",
       "  </tbody>\n",
       "</table>\n",
       "<p>298 rows × 2 columns</p>\n",
       "</div>"
      ],
      "text/plain": [
       "                                                 tweet  senti\n",
       "0    @united Oh, we are sure it's not planned, but ...      0\n",
       "1                            History exam studying ugh      0\n",
       "2    @unnitallman yeah looks like that only! &quot;...      0\n",
       "3                                        Loves twitter      4\n",
       "4    @Mbjthegreat i really dont want AT&amp;T phone...      0\n",
       "..                                                 ...    ...\n",
       "293  @criticalpath Such an awesome idea - the  cont...      4\n",
       "294  Talk is Cheap: Bing that, I?ll stick with Goog...      0\n",
       "295  @CTesdahl well you can always digg or stumble....      4\n",
       "296  Stopped to have lunch at McDonalds. Chicken Nu...      4\n",
       "297  SUPER INVESTORS: A great weekend read here fro...      4\n",
       "\n",
       "[298 rows x 2 columns]"
      ]
     },
     "execution_count": 5,
     "metadata": {},
     "output_type": "execute_result"
    }
   ],
   "source": [
    "# Read the data\n",
    "df = pd.read_csv('tweets.csv')\n",
    "df"
   ]
  },
  {
   "cell_type": "code",
   "execution_count": 7,
   "metadata": {},
   "outputs": [
    {
     "data": {
      "text/html": [
       "<div>\n",
       "<style scoped>\n",
       "    .dataframe tbody tr th:only-of-type {\n",
       "        vertical-align: middle;\n",
       "    }\n",
       "\n",
       "    .dataframe tbody tr th {\n",
       "        vertical-align: top;\n",
       "    }\n",
       "\n",
       "    .dataframe thead th {\n",
       "        text-align: right;\n",
       "    }\n",
       "</style>\n",
       "<table border=\"1\" class=\"dataframe\">\n",
       "  <thead>\n",
       "    <tr style=\"text-align: right;\">\n",
       "      <th></th>\n",
       "      <th>tweet</th>\n",
       "      <th>senti</th>\n",
       "    </tr>\n",
       "  </thead>\n",
       "  <tbody>\n",
       "    <tr>\n",
       "      <th>0</th>\n",
       "      <td>oh we are sure its not planned but it occurs a...</td>\n",
       "      <td>0</td>\n",
       "    </tr>\n",
       "    <tr>\n",
       "      <th>1</th>\n",
       "      <td>history exam studying ugh</td>\n",
       "      <td>0</td>\n",
       "    </tr>\n",
       "    <tr>\n",
       "      <th>2</th>\n",
       "      <td>yeah looks like that only quotbusyquot is fuck...</td>\n",
       "      <td>0</td>\n",
       "    </tr>\n",
       "    <tr>\n",
       "      <th>3</th>\n",
       "      <td>loves twitter</td>\n",
       "      <td>4</td>\n",
       "    </tr>\n",
       "    <tr>\n",
       "      <th>4</th>\n",
       "      <td>i really dont want atampt phone servicethey su...</td>\n",
       "      <td>0</td>\n",
       "    </tr>\n",
       "    <tr>\n",
       "      <th>...</th>\n",
       "      <td>...</td>\n",
       "      <td>...</td>\n",
       "    </tr>\n",
       "    <tr>\n",
       "      <th>293</th>\n",
       "      <td>such an awesome idea the continual learning pr...</td>\n",
       "      <td>4</td>\n",
       "    </tr>\n",
       "    <tr>\n",
       "      <th>294</th>\n",
       "      <td>talk is cheap bing that ill stick with google</td>\n",
       "      <td>0</td>\n",
       "    </tr>\n",
       "    <tr>\n",
       "      <th>295</th>\n",
       "      <td>well you can always digg or stumbleboth have a...</td>\n",
       "      <td>4</td>\n",
       "    </tr>\n",
       "    <tr>\n",
       "      <th>296</th>\n",
       "      <td>stopped to have lunch at mcdonalds chicken nug...</td>\n",
       "      <td>4</td>\n",
       "    </tr>\n",
       "    <tr>\n",
       "      <th>297</th>\n",
       "      <td>super investors a great weekend read here from...</td>\n",
       "      <td>4</td>\n",
       "    </tr>\n",
       "  </tbody>\n",
       "</table>\n",
       "<p>298 rows × 2 columns</p>\n",
       "</div>"
      ],
      "text/plain": [
       "                                                 tweet  senti\n",
       "0    oh we are sure its not planned but it occurs a...      0\n",
       "1                            history exam studying ugh      0\n",
       "2    yeah looks like that only quotbusyquot is fuck...      0\n",
       "3                                        loves twitter      4\n",
       "4    i really dont want atampt phone servicethey su...      0\n",
       "..                                                 ...    ...\n",
       "293  such an awesome idea the continual learning pr...      4\n",
       "294      talk is cheap bing that ill stick with google      0\n",
       "295  well you can always digg or stumbleboth have a...      4\n",
       "296  stopped to have lunch at mcdonalds chicken nug...      4\n",
       "297  super investors a great weekend read here from...      4\n",
       "\n",
       "[298 rows x 2 columns]"
      ]
     },
     "execution_count": 7,
     "metadata": {},
     "output_type": "execute_result"
    }
   ],
   "source": [
    "# Preprocessing\n",
    "# Remove the @user\n",
    "df['tweet'] = df['tweet'].apply(lambda x: re.sub('@[^\\s]+','',x))\n",
    "# Remove the URL\n",
    "df['tweet'] = df['tweet'].apply(lambda x: re.sub('((www\\.[^\\s]+)|(https?://[^\\s]+))','',x))\n",
    "# Remove the # symbol\n",
    "df['tweet'] = df['tweet'].apply(lambda x: re.sub('#[^\\s]+','',x))\n",
    "# Remove the punctuation\n",
    "df['tweet'] = df['tweet'].apply(lambda x: re.sub('[^\\w\\s]','',x))\n",
    "# Remove the numbers\n",
    "df['tweet'] = df['tweet'].apply(lambda x: re.sub('[0-9]','',x))\n",
    "# Remove the extra spaces\n",
    "df['tweet'] = df['tweet'].apply(lambda x: re.sub(' +',' ',x))\n",
    "# Remove the leading and trailing spaces\n",
    "df['tweet'] = df['tweet'].apply(lambda x: x.strip())\n",
    "# Convert to lower case\n",
    "df['tweet'] = df['tweet'].apply(lambda x: x.lower())\n",
    "\n",
    "df"
   ]
  },
  {
   "cell_type": "code",
   "execution_count": 10,
   "metadata": {},
   "outputs": [
    {
     "data": {
      "text/plain": [
       "0.6333333333333333"
      ]
     },
     "execution_count": 10,
     "metadata": {},
     "output_type": "execute_result"
    }
   ],
   "source": [
    "#Naive Bayes training and testing the tweets\n",
    "from sklearn.model_selection import train_test_split\n",
    "from sklearn.feature_extraction.text import CountVectorizer\n",
    "from sklearn.naive_bayes import MultinomialNB\n",
    "from sklearn.metrics import accuracy_score\n",
    "\n",
    "# Split the data into training and testing\n",
    "X_train, X_test, y_train, y_test = train_test_split(df['tweet'], df['senti'], test_size=0.2, random_state=1)\n",
    "\n",
    "# Create the bag of words model\n",
    "count_vectorizer = CountVectorizer()\n",
    "training_data = count_vectorizer.fit_transform(X_train)\n",
    "testing_data = count_vectorizer.transform(X_test)\n",
    "\n",
    "# Train the model\n",
    "naive_bayes = MultinomialNB()\n",
    "naive_bayes.fit(training_data, y_train)\n",
    "\n",
    "# Test the model\n",
    "predictions = naive_bayes.predict(testing_data)\n",
    "accuracy_score(y_test, predictions)\n",
    "\n"
   ]
  },
  {
   "cell_type": "code",
   "execution_count": null,
   "metadata": {},
   "outputs": [],
   "source": []
  }
 ],
 "metadata": {
  "kernelspec": {
   "display_name": "Python 3.9.12 ('base')",
   "language": "python",
   "name": "python3"
  },
  "language_info": {
   "codemirror_mode": {
    "name": "ipython",
    "version": 3
   },
   "file_extension": ".py",
   "mimetype": "text/x-python",
   "name": "python",
   "nbconvert_exporter": "python",
   "pygments_lexer": "ipython3",
   "version": "3.9.12"
  },
  "orig_nbformat": 4,
  "vscode": {
   "interpreter": {
    "hash": "e4983ef1541e43841f9e934630005c5670a77666a511d6fa2b0487a6871a7991"
   }
  }
 },
 "nbformat": 4,
 "nbformat_minor": 2
}
